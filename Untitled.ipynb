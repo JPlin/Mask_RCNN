{
 "cells": [
  {
   "cell_type": "code",
   "execution_count": 6,
   "metadata": {},
   "outputs": [
    {
     "name": "stdout",
     "output_type": "stream",
     "text": [
      "[1 2 4 1 2 4 1 2 4] [ 0.5  0.5  0.5  1.   1.   1.   2.   2.   2. ]\n"
     ]
    }
   ],
   "source": [
    "import numpy as np\n",
    "scales = [1,2,4]\n",
    "ratios = [0.5  , 1 , 2]\n",
    "shape = [64 , 64]\n",
    "feature_stride = 2\n",
    "anchor_stride = 2\n",
    "\n",
    "scales, ratios = np.meshgrid(np.array(scales), np.array(ratios))\n",
    "scales = scales.flatten()\n",
    "ratios = ratios.flatten()\n",
    "print(scales , ratios)"
   ]
  },
  {
   "cell_type": "code",
   "execution_count": 10,
   "metadata": {},
   "outputs": [
    {
     "name": "stdout",
     "output_type": "stream",
     "text": [
      "[ 1.41421356  2.82842712  5.65685425  1.          2.          4.\n",
      "  0.70710678  1.41421356  2.82842712] \n",
      " [ 0.70710678  1.41421356  2.82842712  1.          2.          4.\n",
      "  1.41421356  2.82842712  5.65685425]\n"
     ]
    }
   ],
   "source": [
    "heights = scales / np.sqrt(ratios)\n",
    "widths = scales * np.sqrt(ratios)\n",
    "print(heights , '\\n',widths)"
   ]
  },
  {
   "cell_type": "code",
   "execution_count": 11,
   "metadata": {},
   "outputs": [
    {
     "name": "stdout",
     "output_type": "stream",
     "text": [
      "[  0   4   8  12  16  20  24  28  32  36  40  44  48  52  56  60  64  68\n",
      "  72  76  80  84  88  92  96 100 104 108 112 116 120 124] [  0   4   8  12  16  20  24  28  32  36  40  44  48  52  56  60  64  68\n",
      "  72  76  80  84  88  92  96 100 104 108 112 116 120 124]\n"
     ]
    }
   ],
   "source": [
    "shifts_y = np.arange(0 , shape[0] , anchor_stride) * feature_stride\n",
    "shifts_x = np.arange(0 , shape[1] , anchor_stride) * feature_stride\n",
    "print(shifts_y , shifts_x)\n"
   ]
  },
  {
   "cell_type": "code",
   "execution_count": 12,
   "metadata": {},
   "outputs": [
    {
     "name": "stdout",
     "output_type": "stream",
     "text": [
      "[[  0   4   8 ..., 116 120 124]\n",
      " [  0   4   8 ..., 116 120 124]\n",
      " [  0   4   8 ..., 116 120 124]\n",
      " ..., \n",
      " [  0   4   8 ..., 116 120 124]\n",
      " [  0   4   8 ..., 116 120 124]\n",
      " [  0   4   8 ..., 116 120 124]] [[  0   0   0 ...,   0   0   0]\n",
      " [  4   4   4 ...,   4   4   4]\n",
      " [  8   8   8 ...,   8   8   8]\n",
      " ..., \n",
      " [116 116 116 ..., 116 116 116]\n",
      " [120 120 120 ..., 120 120 120]\n",
      " [124 124 124 ..., 124 124 124]]\n"
     ]
    }
   ],
   "source": [
    "shifts_x , shifts_y = np.meshgrid(shifts_x , shifts_y)\n",
    "print(shifts_x , shifts_y)"
   ]
  },
  {
   "cell_type": "code",
   "execution_count": 13,
   "metadata": {
    "collapsed": true
   },
   "outputs": [
    {
     "name": "stdout",
     "output_type": "stream",
     "text": [
      "[[ 0.70710678  1.41421356  2.82842712 ...,  1.41421356  2.82842712\n",
      "   5.65685425]\n",
      " [ 0.70710678  1.41421356  2.82842712 ...,  1.41421356  2.82842712\n",
      "   5.65685425]\n",
      " [ 0.70710678  1.41421356  2.82842712 ...,  1.41421356  2.82842712\n",
      "   5.65685425]\n",
      " ..., \n",
      " [ 0.70710678  1.41421356  2.82842712 ...,  1.41421356  2.82842712\n",
      "   5.65685425]\n",
      " [ 0.70710678  1.41421356  2.82842712 ...,  1.41421356  2.82842712\n",
      "   5.65685425]\n",
      " [ 0.70710678  1.41421356  2.82842712 ...,  1.41421356  2.82842712\n",
      "   5.65685425]] [[  0   0   0 ...,   0   0   0]\n",
      " [  4   4   4 ...,   4   4   4]\n",
      " [  8   8   8 ...,   8   8   8]\n",
      " ..., \n",
      " [116 116 116 ..., 116 116 116]\n",
      " [120 120 120 ..., 120 120 120]\n",
      " [124 124 124 ..., 124 124 124]]\n"
     ]
    }
   ],
   "source": [
    "box_widths , box_centers_x = np.meshgrid(widths , shifts_x)\n",
    "print(box_widths , box_centers_x)"
   ]
  },
  {
   "cell_type": "code",
   "execution_count": 14,
   "metadata": {},
   "outputs": [
    {
     "name": "stdout",
     "output_type": "stream",
     "text": [
      "[[ 1.41421356  2.82842712  5.65685425 ...,  0.70710678  1.41421356\n",
      "   2.82842712]\n",
      " [ 1.41421356  2.82842712  5.65685425 ...,  0.70710678  1.41421356\n",
      "   2.82842712]\n",
      " [ 1.41421356  2.82842712  5.65685425 ...,  0.70710678  1.41421356\n",
      "   2.82842712]\n",
      " ..., \n",
      " [ 1.41421356  2.82842712  5.65685425 ...,  0.70710678  1.41421356\n",
      "   2.82842712]\n",
      " [ 1.41421356  2.82842712  5.65685425 ...,  0.70710678  1.41421356\n",
      "   2.82842712]\n",
      " [ 1.41421356  2.82842712  5.65685425 ...,  0.70710678  1.41421356\n",
      "   2.82842712]] [[  0   0   0 ...,   0   0   0]\n",
      " [  0   0   0 ...,   0   0   0]\n",
      " [  0   0   0 ...,   0   0   0]\n",
      " ..., \n",
      " [124 124 124 ..., 124 124 124]\n",
      " [124 124 124 ..., 124 124 124]\n",
      " [124 124 124 ..., 124 124 124]]\n"
     ]
    }
   ],
   "source": [
    "box_heights , box_centers_y = np.meshgrid(heights , shifts_y)\n",
    "print(box_heights , box_centers_y)"
   ]
  },
  {
   "cell_type": "code",
   "execution_count": 17,
   "metadata": {},
   "outputs": [
    {
     "name": "stdout",
     "output_type": "stream",
     "text": [
      "[[  0   0]\n",
      " [  0   0]\n",
      " [  0   0]\n",
      " ..., \n",
      " [124 124]\n",
      " [124 124]\n",
      " [124 124]]\n",
      "(9216, 2)\n"
     ]
    }
   ],
   "source": [
    "box_centers = np.stack([box_centers_y , box_centers_x] , axis = 2).reshape([-1 , 2])\n",
    "print(box_centers)\n",
    "print(np.shape(box_centers))"
   ]
  },
  {
   "cell_type": "code",
   "execution_count": 18,
   "metadata": {},
   "outputs": [
    {
     "name": "stdout",
     "output_type": "stream",
     "text": [
      "[[ 1.41421356  0.70710678]\n",
      " [ 2.82842712  1.41421356]\n",
      " [ 5.65685425  2.82842712]\n",
      " ..., \n",
      " [ 0.70710678  1.41421356]\n",
      " [ 1.41421356  2.82842712]\n",
      " [ 2.82842712  5.65685425]]\n",
      "(9216, 2)\n"
     ]
    }
   ],
   "source": [
    "box_sizes = np.stack([box_heights , box_widths] , axis = 2).reshape([-1 ,2])\n",
    "print(box_sizes)\n",
    "print(np.shape(box_sizes))"
   ]
  },
  {
   "cell_type": "code",
   "execution_count": 19,
   "metadata": {},
   "outputs": [
    {
     "name": "stdout",
     "output_type": "stream",
     "text": [
      "[[  -0.70710678   -0.35355339    0.70710678    0.35355339]\n",
      " [  -1.41421356   -0.70710678    1.41421356    0.70710678]\n",
      " [  -2.82842712   -1.41421356    2.82842712    1.41421356]\n",
      " ..., \n",
      " [ 123.64644661  123.29289322  124.35355339  124.70710678]\n",
      " [ 123.29289322  122.58578644  124.70710678  125.41421356]\n",
      " [ 122.58578644  121.17157288  125.41421356  126.82842712]]\n",
      "(9216, 4)\n"
     ]
    }
   ],
   "source": [
    "boxes = np.concatenate([box_centers - 0.5 * box_sizes , box_centers + 0.5 * box_sizes],axis =1 )\n",
    "print(boxes)\n",
    "print(np.shape(boxes))"
   ]
  },
  {
   "cell_type": "code",
   "execution_count": null,
   "metadata": {},
   "outputs": [],
   "source": []
  }
 ],
 "metadata": {
  "kernelspec": {
   "display_name": "Python 3",
   "language": "python",
   "name": "python3"
  },
  "language_info": {
   "codemirror_mode": {
    "name": "ipython",
    "version": 3
   },
   "file_extension": ".py",
   "mimetype": "text/x-python",
   "name": "python",
   "nbconvert_exporter": "python",
   "pygments_lexer": "ipython3",
   "version": "3.6.3"
  }
 },
 "nbformat": 4,
 "nbformat_minor": 2
}
